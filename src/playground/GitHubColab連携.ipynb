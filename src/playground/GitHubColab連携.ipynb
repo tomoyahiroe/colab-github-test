{
  "nbformat": 4,
  "nbformat_minor": 0,
  "metadata": {
    "colab": {
      "private_outputs": true,
      "provenance": [],
      "toc_visible": true,
      "authorship_tag": "ABX9TyOY8eREuRZve3B9JhCMTDCT",
      "include_colab_link": true
    },
    "kernelspec": {
      "name": "python3",
      "display_name": "Python 3"
    },
    "language_info": {
      "name": "python"
    }
  },
  "cells": [
    {
      "cell_type": "markdown",
      "metadata": {
        "id": "view-in-github",
        "colab_type": "text"
      },
      "source": [
        "<a href=\"https://colab.research.google.com/github/tomoyahiroe/colab-github-test/blob/main/src/playground/GitHubColab%E9%80%A3%E6%90%BA.ipynb\" target=\"_parent\"><img src=\"https://colab.research.google.com/assets/colab-badge.svg\" alt=\"Open In Colab\"/></a>"
      ]
    },
    {
      "cell_type": "markdown",
      "source": [
        "# GitHub と Colab を連携して開発を行う方法"
      ],
      "metadata": {
        "id": "4rWLrC9RNiQK"
      }
    },
    {
      "cell_type": "code",
      "source": [
        "import numpy as np\n",
        "from matplotlib import pyplot as plt"
      ],
      "metadata": {
        "id": "4bcFmmfdTbFl"
      },
      "execution_count": null,
      "outputs": []
    },
    {
      "cell_type": "markdown",
      "source": [
        "## GitHub リポジトリに保存された関数を呼び出す方法\n",
        "\n",
        "1. リポジトリをクローン\n",
        "2. パスを通す\n",
        "3. 関数やクラスをインポート"
      ],
      "metadata": {
        "id": "UAFmnjdyORDg"
      }
    },
    {
      "cell_type": "code",
      "execution_count": null,
      "metadata": {
        "collapsed": true,
        "id": "ChWAQkEfLFVV"
      },
      "outputs": [],
      "source": [
        "!git clone https://github.com/tomoyahiroe/quant-macro-workshop.git\n",
        "import sys\n",
        "sys.path.append('quant-macro-workshop')\n",
        "from src.ch6.olg_deterministic.setting import Setting\n",
        "from src.ch6.olg_deterministic.olg import Equilibrium, Result, search_equilibrium"
      ]
    },
    {
      "cell_type": "markdown",
      "source": [
        "### colabからimportしやすいリポジトリの作り方\n",
        "\n",
        "GiļHubのリポジトリで管理するコードは、リポジトリのルートからパスを指定してimport文を書くようにする。また、フォルダ名とファイル名を工夫することで、import文を見るだけで何をインポートしようとしているかがわかりやすくなる。（Pythonではファイル単位でモジュールが作成される）\n"
      ],
      "metadata": {
        "id": "gmHMSGEzNhSB"
      }
    },
    {
      "cell_type": "markdown",
      "source": [
        "### 実行"
      ],
      "metadata": {
        "id": "SIirsxomTqJ3"
      }
    },
    {
      "cell_type": "code",
      "source": [
        "baseline = search_equilibrium(\n",
        "    Setting(),\n",
        "    Kd0 = 500,\n",
        "    lambdaR = 0.01,\n",
        "    DEBUG_MODE = False\n",
        ")"
      ],
      "metadata": {
        "id": "m6BAPv1SRVhA"
      },
      "execution_count": null,
      "outputs": []
    },
    {
      "cell_type": "code",
      "source": [
        "# 初期消費で正規化したプロット\n",
        "c1_baseline = baseline.equilibrium.c_path[0]  # 初期消費\n",
        "\n",
        "# 年齢軸（20歳から）\n",
        "age_axis = np.arange(20, 20 + len(baseline.equilibrium.aprime_path))\n",
        "\n",
        "# 資産パスをプロット（初期消費で正規化）\n",
        "plt.figure(figsize=(8, 5))\n",
        "plt.plot(age_axis, baseline.equilibrium.aprime_path / c1_baseline, marker='o')\n",
        "plt.title('Asset Path Over Age (Normalized by Initial Consumption)')\n",
        "plt.xlabel('Age')\n",
        "plt.ylabel('Assets / Initial Consumption')\n",
        "plt.grid()\n",
        "plt.show()"
      ],
      "metadata": {
        "id": "0QOKnBxXTTtc"
      },
      "execution_count": null,
      "outputs": []
    },
    {
      "cell_type": "markdown",
      "source": [
        "# Colabに書いたコードをGitHubで管理する方法"
      ],
      "metadata": {
        "id": "D_hXaF6jT0Fe"
      }
    },
    {
      "cell_type": "code",
      "source": [],
      "metadata": {
        "id": "GU3_FeLLT44s"
      },
      "execution_count": null,
      "outputs": []
    }
  ]
}