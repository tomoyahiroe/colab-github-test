{
  "nbformat": 4,
  "nbformat_minor": 0,
  "metadata": {
    "colab": {
      "private_outputs": true,
      "provenance": [],
      "authorship_tag": "ABX9TyMAbk4PgHD1DShzblnfUoDQ",
      "include_colab_link": true
    },
    "kernelspec": {
      "name": "python3",
      "display_name": "Python 3"
    },
    "language_info": {
      "name": "python"
    }
  },
  "cells": [
    {
      "cell_type": "markdown",
      "metadata": {
        "id": "view-in-github",
        "colab_type": "text"
      },
      "source": [
        "<a href=\"https://colab.research.google.com/github/tomoyahiroe/colab-github-test/blob/main/src/playground/colab_github_test.ipynb\" target=\"_parent\"><img src=\"https://colab.research.google.com/assets/colab-badge.svg\" alt=\"Open In Colab\"/></a>"
      ]
    },
    {
      "cell_type": "code",
      "source": [
        "from google.colab import userdata\n",
        "GITHUB_TOKEN = userdata.get('GITHUBTOKEN')"
      ],
      "metadata": {
        "id": "5VZ5x3V-aODq"
      },
      "execution_count": null,
      "outputs": []
    },
    {
      "cell_type": "code",
      "execution_count": null,
      "metadata": {
        "id": "ZMezBiFLYN0-"
      },
      "outputs": [],
      "source": [
        "# GitHubの認証情報を設定\n",
        "!git config --global user.name \"tomoyahiroe\" #GitHubのアカウント名\n",
        "!git config --global user.email \"tomoya4creative@gmail.com\" # GitHubに登録しているメールアドレス\n",
        "\n",
        "# Personal Access Tokenを使用（推奨)\n",
        "!git clone https://github.com/tomoyahiroe/colab-github-test.git"
      ]
    },
    {
      "cell_type": "code",
      "source": [
        "!cd colab-github-test"
      ],
      "metadata": {
        "id": "WNnYcpJedzpI"
      },
      "execution_count": null,
      "outputs": []
    },
    {
      "cell_type": "code",
      "source": [
        "!git status"
      ],
      "metadata": {
        "id": "MngpGeeRdm92"
      },
      "execution_count": null,
      "outputs": []
    },
    {
      "cell_type": "code",
      "source": [],
      "metadata": {
        "id": "N2kwraxjdopu"
      },
      "execution_count": null,
      "outputs": []
    }
  ]
}